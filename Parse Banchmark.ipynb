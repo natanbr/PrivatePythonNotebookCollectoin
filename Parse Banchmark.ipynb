{
 "cells": [
  {
   "cell_type": "markdown",
   "metadata": {},
   "source": [
    "# Parse Banchmark"
   ]
  },
  {
   "cell_type": "markdown",
   "metadata": {},
   "source": [
    "This document shows the results of a benchmarking I conducted on Parse platform useing [Parse Python Rest API](https://parse.com/docs/rest/). <br>\n",
    "The banchmarking includes write objects (Add new object to Parse DB)\n",
    "Query Data (Read from DB)\n"
   ]
  },
  {
   "cell_type": "markdown",
   "metadata": {},
   "source": [
    "* [Using and Connection](#Connect_to_DB)\n",
    "* [Read Single value](#Single_Read)\n",
    "* [Add_BacnhMark](#Add_BacnhMark)\n",
    "    * [Results](#Results_1)\n",
    "* [Query_BanchMark](#Query_BanchMark)\n",
    "    * [Results](#Results_2)\n",
    "\n"
   ]
  },
  {
   "cell_type": "markdown",
   "metadata": {},
   "source": [
    "## Connect_to_DB"
   ]
  },
  {
   "cell_type": "code",
   "execution_count": 1,
   "metadata": {
    "collapsed": true
   },
   "outputs": [],
   "source": [
    "import json,httplib,urllib # Parse imports"
   ]
  },
  {
   "cell_type": "code",
   "execution_count": 14,
   "metadata": {
    "collapsed": true
   },
   "outputs": [],
   "source": [
    "import pandas as pd\n",
    "import matplotlib.pyplot as plt\n",
    "%matplotlib inline\n",
    "import threading"
   ]
  },
  {
   "cell_type": "code",
   "execution_count": 6,
   "metadata": {
    "collapsed": true
   },
   "outputs": [],
   "source": [
    "import time"
   ]
  },
  {
   "cell_type": "code",
   "execution_count": 164,
   "metadata": {
    "collapsed": false
   },
   "outputs": [],
   "source": [
    "connection = httplib.HTTPSConnection('api.parse.com', 443)\n",
    "connection.connect()"
   ]
  },
  {
   "cell_type": "code",
   "execution_count": null,
   "metadata": {
    "collapsed": false
   },
   "outputs": [],
   "source": [
    "appDict = {\n",
    "    'dc_x_app_id':'X-Parse-Application-Id',\n",
    "    'dc_v_app_id':'zSdMbFPkNroYsYJ1r7pz9jt9OHdVLWNsZWp4l3F7',\n",
    "    'dc_x_app_key':'X-Parse-REST-API-Key',\n",
    "    'dc_v_app_key':'XTbvW3CacGl8FUIuafboQgGz07n7sZcMHKvCTP4p',\n",
    "    'dc_x_cnt_typ':'Content-Type',\n",
    "    'dc_v_cnt_typ':'application/json',\n",
    "}"
   ]
  },
  {
   "cell_type": "markdown",
   "metadata": {},
   "source": [
    "## Single_Read"
   ]
  },
  {
   "cell_type": "markdown",
   "metadata": {},
   "source": [
    "Single Read from Jobs DB\n",
    "1. verify connection time\n",
    "2. verify request time"
   ]
  },
  {
   "cell_type": "code",
   "execution_count": 166,
   "metadata": {
    "collapsed": true
   },
   "outputs": [],
   "source": [
    "param = \"Jobs\""
   ]
  },
  {
   "cell_type": "code",
   "execution_count": 167,
   "metadata": {
    "collapsed": false
   },
   "outputs": [
    {
     "name": "stdout",
     "output_type": "stream",
     "text": [
      "Create connection =  0.0020001\n",
      "Execute connection =  0.1900001\n",
      "<type 'dict'>\n",
      "16\n"
     ]
    }
   ],
   "source": [
    "before = time.time()\n",
    "connection.request('GET', '/1/classes/%s' % param, '', {\n",
    "       appDict['dc_x_app_id'] : appDict['dc_v_app_id'] ,\n",
    "       appDict['dc_x_app_key'] : appDict['dc_v_app_key'] ,\n",
    "     })\n",
    "afterCreateConn = time.time()\n",
    "\n",
    "resp = connection.getresponse().read()\n",
    "\n",
    "after = time.time()\n",
    "\n",
    "result = json.loads(resp)\n",
    "\n",
    "print '%20s %.7f' % (\"Create connection = \" , afterCreateConn - before)\n",
    "print '%20s %.7f' % (\"Execute connection = \" , after - afterCreateConn)\n",
    "\n",
    "print type(result)\n",
    "print len(result['results'])"
   ]
  },
  {
   "cell_type": "markdown",
   "metadata": {},
   "source": [
    "## Add_BanchMark"
   ]
  },
  {
   "cell_type": "markdown",
   "metadata": {},
   "source": [
    "Write to DB 1000 new enterys containing (string, integer, boolean) <br>\n",
    "save the time of each connection"
   ]
  },
  {
   "cell_type": "code",
   "execution_count": 188,
   "metadata": {
    "collapsed": false
   },
   "outputs": [
    {
     "name": "stdout",
     "output_type": "stream",
     "text": [
      "Sending...\n",
      "Done!\n"
     ]
    }
   ],
   "source": [
    "import json,httplib\n",
    "connection = httplib.HTTPSConnection('api.parse.com', 443)\n",
    "connection.connect()\n",
    "\n",
    "string = \"ABCDEFGHIJKLMNOPQRSTUVWYZ ABCDEFGHIJKLMNOPQRSTUVWYZ ABCDEFGHIJKLMNOPQRSTUVWYZ\"\n",
    "\n",
    "timeResList = []\n",
    "\n",
    "print \"Sending...\"\n",
    "for number in range (0,1000):\n",
    "    before = time.time()\n",
    "    connection.request('POST', '/1/classes/BanchMarkTesting', json.dumps({\n",
    "           \"VarA\": number,\n",
    "           \"VarB\": string,\n",
    "           \"VarC\": False\n",
    "         }), {\n",
    "           appDict['dc_x_app_id'] : appDict['dc_v_app_id'] ,\n",
    "           appDict['dc_x_app_key'] : appDict['dc_v_app_key'] ,\n",
    "           appDict['dc_x_cnt_typ'] : appDict['dc_v_cnt_typ'] ,\n",
    "         })\n",
    "    afterCreateConn = time.time()\n",
    "    \n",
    "    connectionResp = connection.getresponse().read()\n",
    "    \n",
    "    after = time.time()\n",
    "    \n",
    "    timeResList.append([afterCreateConn-before,after-afterCreateConn])\n",
    "    results = json.loads(connectionResp)\n",
    "    # print results\n",
    "\n",
    "print \"Done!\"    "
   ]
  },
  {
   "cell_type": "code",
   "execution_count": 195,
   "metadata": {
    "collapsed": false
   },
   "outputs": [
    {
     "name": "stdout",
     "output_type": "stream",
     "text": [
      "         0      1\n",
      "0    0.001  0.210\n",
      "1    0.000  0.180\n",
      "2    0.001  0.178\n",
      "3    0.001  0.190\n",
      "4    0.000  0.179\n",
      "5    0.001  0.178\n",
      "6    0.000  0.184\n",
      "7    0.000  0.184\n",
      "8    0.000  0.186\n",
      "9    0.001  1.369\n",
      "10   0.000  0.180\n",
      "11   0.000  0.182\n",
      "12   0.001  0.187\n",
      "13   0.001  0.181\n",
      "14   0.000  0.175\n",
      "15   0.001  0.176\n",
      "16   0.000  0.189\n",
      "17   0.001  0.177\n",
      "18   0.000  0.216\n",
      "19   0.000  0.177\n",
      "20   0.001  0.182\n",
      "21   0.001  0.176\n",
      "22   0.001  0.178\n",
      "23   0.001  0.188\n",
      "24   0.001  0.180\n",
      "25   0.000  0.185\n",
      "26   0.000  0.173\n",
      "27   0.001  0.188\n",
      "28   0.001  0.179\n",
      "29   0.001  0.176\n",
      "..     ...    ...\n",
      "970  0.000  0.176\n",
      "971  0.000  0.177\n",
      "972  0.000  0.179\n",
      "973  0.000  0.179\n",
      "974  0.001  0.174\n",
      "975  0.000  0.187\n",
      "976  0.000  0.179\n",
      "977  0.001  0.179\n",
      "978  0.001  0.190\n",
      "979  0.000  0.191\n",
      "980  0.000  1.749\n",
      "981  0.001  0.189\n",
      "982  0.000  0.177\n",
      "983  0.001  0.177\n",
      "984  0.000  0.181\n",
      "985  0.000  0.176\n",
      "986  0.001  0.174\n",
      "987  0.000  0.177\n",
      "988  0.000  0.193\n",
      "989  0.001  0.175\n",
      "990  0.000  0.190\n",
      "991  0.000  0.177\n",
      "992  0.001  0.177\n",
      "993  0.000  0.173\n",
      "994  0.000  1.206\n",
      "995  0.000  0.183\n",
      "996  0.000  0.181\n",
      "997  0.000  0.176\n",
      "998  0.001  0.177\n",
      "999  0.000  0.178\n",
      "\n",
      "[1000 rows x 2 columns]\n"
     ]
    },
    {
     "data": {
      "image/png": "[encoded data removed]",
      "text/plain": [
       "<matplotlib.figure.Figure at 0xd26eda0>"
      ]
     },
     "metadata": {},
     "output_type": "display_data"
    }
   ],
   "source": [
    "timeDataFrame = pd.DataFrame(timeResList)\n",
    "\n",
    "print timeDataFrame\n",
    "plt.plot(timeDataFrame)\n",
    "plt.savefig('test.png', bbox_inches='tight')\n",
    "\n"
   ]
  },
  {
   "cell_type": "code",
   "execution_count": 16,
   "metadata": {
    "collapsed": false
   },
   "outputs": [
    {
     "name": "stdout",
     "output_type": "stream",
     "text": [
      "Create connection =  0.3460000\n",
      "Create connection =  0.3340001\n",
      "Create connection =  0.3329999\n",
      "Create connection =  0.5120001\n",
      "Create connection =  0.3360002\n",
      "Create connection =  0.3510001\n",
      "Create connection =  0.1859999\n",
      "Create connection =  0.1870000\n",
      "Create connection =  0.2040000\n",
      "Create connection =  0.2049999\n",
      "Create connection =  0.2140000\n",
      "Create connection =  0.1940000\n",
      "Create connection =  0.1920002\n",
      "Create connection =  0.1910000\n",
      "Create connection =  0.1970000\n",
      "Create connection =  0.2510002\n",
      "Create connection =  0.2149999\n",
      "Create connection =  0.1860001\n",
      "Create connection =  0.1949999\n",
      "Create connection =  0.1840000\n",
      "Create connection =  0.1849999\n",
      "Create connection =  0.1949999\n",
      "Create connection =  0.1910000\n",
      "Create connection =  0.1849999\n",
      "Create connection =  1.3590000\n",
      "Create connection =  0.3460002\n",
      "Create connection =  0.3320000\n",
      "Create connection =  0.1930001\n",
      "Create connection =  0.1859999\n",
      "Create connection =  0.1799998\n",
      "Create connection =  0.1910000\n",
      "Create connection =  0.1840000\n",
      "Create connection =  0.1959999\n",
      "Create connection =  0.2249999\n",
      "Create connection =  0.8399999\n",
      "Create connection =  0.3400002\n",
      "Create connection =  0.3499999\n",
      "Create connection =  0.3500001\n",
      "Create connection =  1.5720000\n",
      "Create connection =  0.3420000\n"
     ]
    }
   ],
   "source": [
    "import json,httplib\n",
    "connection = httplib.HTTPSConnection('api.parse.com', 443)\n",
    "connection.connect()\n",
    "\n",
    "timeResList = []\n",
    "\n",
    "for i in range (0,40):\n",
    "    connection.request('GET', '/1/classes/BanchMarkTesting', '', {\n",
    "           \"X-Parse-Application-Id\": \"zSdMbFPkNroYsYJ1r7pz9jt9OHdVLWNsZWp4l3F7\",\n",
    "           \"X-Parse-REST-API-Key\": \"XTbvW3CacGl8FUIuafboQgGz07n7sZcMHKvCTP4p\"\n",
    "         })\n",
    "\n",
    "    before = time.time()\n",
    "    queryRes = connection.getresponse().read();\n",
    "    after = time.time()\n",
    "    timeResList.append(after - before)\n",
    "    print '%20s %.7f' % (\"Create connection = \" , after - before)\n",
    "\n",
    "#result = json.loads(queryRes)\n"
   ]
  },
  {
   "cell_type": "markdown",
   "metadata": {},
   "source": [
    "### Results_1"
   ]
  },
  {
   "cell_type": "code",
   "execution_count": 17,
   "metadata": {
    "collapsed": false
   },
   "outputs": [
    {
     "data": {
      "image/png": "[encoded data removed]",
      "text/plain": [
       "<matplotlib.figure.Figure at 0x9552d68>"
      ]
     },
     "metadata": {},
     "output_type": "display_data"
    }
   ],
   "source": [
    "timeDataFrame = pd.DataFrame(timeResList)\n",
    "\n",
    "plt.title('Histogram of request time to add new data')\n",
    "plt.ylabel('Time of single request in sec')\n",
    "plt.xlabel('request number')\n",
    "\n",
    "plt.plot(timeDataFrame)\n",
    "plt.savefig('test.png', bbox_inches='tight')\n"
   ]
  },
  {
   "cell_type": "markdown",
   "metadata": {},
   "source": [
    "## Query_BanchMark"
   ]
  },
  {
   "cell_type": "code",
   "execution_count": 20,
   "metadata": {
    "collapsed": false
   },
   "outputs": [
    {
     "name": "stdout",
     "output_type": "stream",
     "text": [
      "Create connection =  0.2260001\n",
      "Create connection =  0.1889999\n",
      "Create connection =  0.3600001\n",
      "Create connection =  0.1970000\n",
      "Create connection =  0.1950002\n",
      "Create connection =  0.1870000\n",
      "Create connection =  0.1830001\n",
      "Create connection =  0.1810000\n",
      "Create connection =  0.1930001\n",
      "Create connection =  0.1880000\n",
      "Create connection =  0.1849999\n",
      "Create connection =  0.2090001\n",
      "Create connection =  0.1950002\n",
      "Create connection =  0.1740000\n",
      "Create connection =  0.2200000\n",
      "Create connection =  0.1810000\n",
      "Create connection =  0.1849999\n",
      "Create connection =  0.1759999\n",
      "Create connection =  0.1889999\n",
      "Create connection =  0.1880000\n",
      "Create connection =  0.2040000\n",
      "Create connection =  0.1890001\n",
      "Create connection =  0.1889999\n",
      "Create connection =  0.1750002\n",
      "Create connection =  0.5539999\n",
      "Create connection =  0.1919999\n",
      "Create connection =  0.2019999\n",
      "Create connection =  0.1810000\n",
      "Create connection =  0.1930001\n",
      "Create connection =  0.2149999\n",
      "Create connection =  0.1910000\n",
      "Create connection =  0.1819999\n",
      "Create connection =  0.1900001\n",
      "Create connection =  0.1849999\n",
      "Create connection =  0.1990001\n",
      "Create connection =  0.2040000\n",
      "Create connection =  0.1910002\n",
      "Create connection =  0.1959999\n",
      "Create connection =  0.1750000\n",
      "Create connection =  0.2129998\n"
     ]
    },
    {
     "data": {
      "image/png": "[encoded data removed]",
      "text/plain": [
       "<matplotlib.figure.Figure at 0x9576278>"
      ]
     },
     "metadata": {},
     "output_type": "display_data"
    }
   ],
   "source": [
    "import json,httplib,urllib\n",
    "connection = httplib.HTTPSConnection('api.parse.com', 443)\n",
    "params = urllib.urlencode({\"where\":json.dumps({\n",
    "       \"VarA\": {\n",
    "         \"$gte\": 580,\n",
    "         \"$lte\": 600\n",
    "       }\n",
    "     })})\n",
    "connection.connect()\n",
    "\n",
    "timeResList = []\n",
    "\n",
    "for i in range (0,40):\n",
    "    connection.request('GET', '/1/classes/BanchMarkTesting?%s' % params, '', {\n",
    "           \"X-Parse-Application-Id\": \"zSdMbFPkNroYsYJ1r7pz9jt9OHdVLWNsZWp4l3F7\",\n",
    "           \"X-Parse-REST-API-Key\": \"XTbvW3CacGl8FUIuafboQgGz07n7sZcMHKvCTP4p\"\n",
    "         })\n",
    "    before = time.time()\n",
    "    result = json.loads(connection.getresponse().read())\n",
    "    after = time.time()\n",
    "    timeResList.append(after-before)\n",
    "    print '%20s %.7f' % (\"Create connection = \" , after - before)"
   ]
  },
  {
   "cell_type": "markdown",
   "metadata": {},
   "source": [
    "### Results_2"
   ]
  },
  {
   "cell_type": "code",
   "execution_count": 25,
   "metadata": {
    "collapsed": false
   },
   "outputs": [
    {
     "data": {
      "image/png": "[encoded data removed]",
      "text/plain": [
       "<matplotlib.figure.Figure at 0xab53358>"
      ]
     },
     "metadata": {},
     "output_type": "display_data"
    }
   ],
   "source": [
    "timeDataFrame = pd.DataFrame(timeResList)\n",
    "plt.title('Histogram of request time to query new data')\n",
    "plt.ylabel('Time of single request in sec')\n",
    "plt.xlabel('request number')\n",
    "\n",
    "plt.plot(timeDataFrame, lw=2)\n",
    "plt.savefig('test.png', bbox_inches='tight')\n"
   ]
  }
 ],
 "metadata": {
  "kernelspec": {
   "display_name": "Python 2",
   "language": "python",
   "name": "python2"
  },
  "language_info": {
   "codemirror_mode": {
    "name": "ipython",
    "version": 2
   },
   "file_extension": ".py",
   "mimetype": "text/x-python",
   "name": "python",
   "nbconvert_exporter": "python",
   "pygments_lexer": "ipython2",
   "version": "2.7.11"
  }
 },
 "nbformat": 4,
 "nbformat_minor": 0
}
