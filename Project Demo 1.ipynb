{
 "cells": [
  {
   "cell_type": "code",
   "execution_count": 2,
   "metadata": {
    "collapsed": true
   },
   "outputs": [],
   "source": [
    "# Import everything needed to edit video clips\n",
    "from moviepy.editor import *"
   ]
  },
  {
   "cell_type": "code",
   "execution_count": 7,
   "metadata": {
    "collapsed": false
   },
   "outputs": [
    {
     "name": "stdout",
     "output_type": "stream",
     "text": [
      "(1840, 1080)\n",
      "LG Original Size = (1440, 2560)\n",
      "LG Srinked Size = (294L, 518L)\n",
      "LG Screen pos = (1546L, 562L)\n",
      "Samsung Original Size = (1440, 2560)\n",
      "Samsung Srinked Size = (294L, 518L)\n",
      "Samsung Screen pos = (1252L, 562L)\n"
     ]
    }
   ],
   "source": [
    "#load images, cut the clip\n",
    "c_main = VideoFileClip(r\"C:\\Users\\nbraslav\\OneDrive\\2nd deg project\\Demo\\Demo_Start.xesc\")\n",
    "c_l = VideoFileClip(r\"C:\\Users\\nbraslav\\OneDrive\\2nd deg project\\Demo\\Demo_LG_D1t.mp4\")\n",
    "c_s = VideoFileClip(r\"C:\\Users\\nbraslav\\OneDrive\\2nd deg project\\Demo\\Demo_samasung_D2.mp4\")\n",
    "c_end = VideoFileClip(r\"C:\\Users\\nbraslav\\OneDrive\\2nd deg project\\Demo\\Demo_End.xesc\").subclip(5,15)\n",
    "\n",
    "#get the clip size\n",
    "w,h = c_main.size\n",
    "\n",
    "print (w,h)\n",
    "\n",
    "shrink = 5\n",
    "#resize the clip and add margin \n",
    "mobile_w,mobile_h = cw,ch = c_l.size\n",
    "print \"LG Original Size = \" + str((cw,ch))\n",
    "c_l = c_l.resize(width = cw/shrink).margin(3,color=(255,255,255))\n",
    "cw,ch = c_l.size\n",
    "print \"LG Srinked Size = \" + str((cw,ch))\n",
    "c_l = c_l.set_pos((w-cw,h-ch))\n",
    "print \"LG Screen pos = \" + str((w-cw,h-ch))\n",
    "\n",
    "cw,ch = mobile_w,mobile_h\n",
    "print \"Samsung Original Size = \" + str((cw,ch))\n",
    "c_s = c_s.resize(width = cw/shrink).margin(3,color=(255,255,255))\n",
    "cw,ch = c_s.size\n",
    "print \"Samsung Srinked Size = \" + str((cw,ch))\n",
    "c_s = c_s.set_pos((w-2*cw,h-ch))\n",
    "print \"Samsung Screen pos = \" + str((w-2 * cw,h-ch))\n",
    "\n",
    "#set start at\n",
    "c_l = c_l.set_start(26)\n",
    "c_s = c_s.set_start(30)\n",
    "\n",
    "#final = CompositeVideoClip([c_main,c_l,c_s], size=(w,h))\n",
    "#ipython_display(final,fps=24)\n",
    "#final.write_videofile(\"d2.mp4\",fps=24)"
   ]
  },
  {
   "cell_type": "code",
   "execution_count": 36,
   "metadata": {
    "collapsed": true
   },
   "outputs": [],
   "source": [
    "t1= TextClip(\"Parse Data Collect Dashboard\", font='Amiri-regular', color='white',fontsize=24)\n",
    "t1= t1.set_pos((0,0)).set_duration(7)\n",
    "t1_s = t1.on_color(size=(w, t1.h + 10), color=(0,0,0), pos=(6,'center'), col_opacity=0.9)\n",
    "\n",
    "t2= TextClip(\"Filling the main form\", font='Amiri-regular', color='white',fontsize=24)\n",
    "t2= t2.set_pos((0,0)).set_duration(24-7)\n",
    "t2_s = t2.on_color(size=(w, t2.h + 10), color=(0,0,0), pos=(6,'center'), col_opacity=0.9)"
   ]
  },
  {
   "cell_type": "code",
   "execution_count": 37,
   "metadata": {
    "collapsed": false
   },
   "outputs": [
    {
     "name": "stdout",
     "output_type": "stream",
     "text": [
      "[MoviePy] >>>> Building video DemoTask1.mp4\n",
      "[MoviePy] Writing video DemoTask1.mp4\n"
     ]
    },
    {
     "name": "stderr",
     "output_type": "stream",
     "text": [
      "100%|███████████████████████████████| 2785/2785 [8:11:11<00:00, 24.86it/s]\n"
     ]
    },
    {
     "name": "stdout",
     "output_type": "stream",
     "text": [
      "[MoviePy] Done.\n",
      "[MoviePy] >>>> Video ready: DemoTask1.mp4 \n",
      "\n"
     ]
    }
   ],
   "source": [
    "part1 = CompositeVideoClip([c_main,c_l,c_s, t1_s, t2_s], size=(w,h))\n",
    "final = concatenate([part1,c_end])\n",
    "final.write_videofile(\"DemoTask1.mp4\",fps=24)"
   ]
  },
  {
   "cell_type": "code",
   "execution_count": null,
   "metadata": {
    "collapsed": true
   },
   "outputs": [],
   "source": []
  }
 ],
 "metadata": {
  "kernelspec": {
   "display_name": "Python 2",
   "language": "python",
   "name": "python2"
  },
  "language_info": {
   "codemirror_mode": {
    "name": "ipython",
    "version": 2
   },
   "file_extension": ".py",
   "mimetype": "text/x-python",
   "name": "python",
   "nbconvert_exporter": "python",
   "pygments_lexer": "ipython2",
   "version": "2.7.11"
  }
 },
 "nbformat": 4,
 "nbformat_minor": 0
}
