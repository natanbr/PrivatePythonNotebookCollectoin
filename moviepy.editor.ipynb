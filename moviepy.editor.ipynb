{
 "cells": [
  {
   "cell_type": "code",
   "execution_count": 1,
   "metadata": {
    "collapsed": true
   },
   "outputs": [],
   "source": [
    "# Import everything needed to edit video clips\n",
    "from moviepy.editor import *"
   ]
  },
  {
   "cell_type": "code",
   "execution_count": 2,
   "metadata": {
    "collapsed": true
   },
   "outputs": [],
   "source": [
    "c_ble = VideoFileClip(r\"C:\\Users\\nbraslav\\game_ble.mp4\")\n",
    "c_lg = VideoFileClip(r\"C:\\Users\\nbraslav\\game_lg.mp4\")"
   ]
  },
  {
   "cell_type": "code",
   "execution_count": 3,
   "metadata": {
    "collapsed": false
   },
   "outputs": [
    {
     "name": "stdout",
     "output_type": "stream",
     "text": [
      "Screen Size = (1840, 1080)\n"
     ]
    }
   ],
   "source": [
    "v1 = VideoFileClip(r\"C:\\Users\\nbraslav\\OneDrive\\2nd deg project\\Demo\\DemoL1.wmv\")\n",
    "#get the clip size\n",
    "w,h = v1.size\n",
    "print \"Screen Size = \" + str((w,h))\n"
   ]
  },
  {
   "cell_type": "code",
   "execution_count": 5,
   "metadata": {
    "collapsed": false
   },
   "outputs": [
    {
     "name": "stdout",
     "output_type": "stream",
     "text": [
      "d11 New Size = (619L, 1095L)\n",
      "d2 New Size = (1232L, 695L)\n"
     ]
    }
   ],
   "source": [
    "w_new = w/3\n",
    "\n",
    "#resize the clip and add margin \n",
    "c_ble = c_ble.resize(width = w_new).margin(3,color=(255,255,255))\n",
    "print \"d11 New Size = \" + str(c_ble.size)\n",
    "c_lg = c_lg.resize(width =  w_new * 2).margin(3,color=(255,255,255))\n",
    "print \"d2 New Size = \" + str(c_lg.size)"
   ]
  },
  {
   "cell_type": "code",
   "execution_count": 12,
   "metadata": {
    "collapsed": false
   },
   "outputs": [
    {
     "name": "stdout",
     "output_type": "stream",
     "text": [
      "d11 Pos = (608L, 385L)\n"
     ]
    }
   ],
   "source": [
    "lw,lh = c_lg.size\n",
    "\n",
    "print \"d11 Pos = \" + str((w-lw,h-lh))\n",
    "c_lg = c_lg.set_pos((w-lw,h-lh))"
   ]
  },
  {
   "cell_type": "code",
   "execution_count": 13,
   "metadata": {
    "collapsed": true
   },
   "outputs": [],
   "source": [
    "c_lg = c_lg.set_start(2)\n",
    "c_ble = c_ble.subclip(0,57)"
   ]
  },
  {
   "cell_type": "code",
   "execution_count": 14,
   "metadata": {
    "collapsed": true
   },
   "outputs": [],
   "source": [
    "final =  CompositeVideoClip([c_lg,c_ble],v1.size)"
   ]
  },
  {
   "cell_type": "code",
   "execution_count": 15,
   "metadata": {
    "collapsed": false
   },
   "outputs": [
    {
     "name": "stdout",
     "output_type": "stream",
     "text": [
      "[MoviePy] >>>> Building video BLE_Game.mp4\n",
      "[MoviePy] Writing video BLE_Game.mp4\n"
     ]
    },
    {
     "name": "stderr",
     "output_type": "stream",
     "text": [
      "100%|████████████████████████████████▉| 1368/1369 [20:25<00:00,  2.09it/s]\n"
     ]
    },
    {
     "name": "stdout",
     "output_type": "stream",
     "text": [
      "[MoviePy] Done.\n",
      "[MoviePy] >>>> Video ready: BLE_Game.mp4 \n",
      "\n"
     ]
    }
   ],
   "source": [
    "final.write_videofile(\"BLE_Game.mp4\",fps=24)"
   ]
  }
 ],
 "metadata": {
  "kernelspec": {
   "display_name": "Python 2",
   "language": "python",
   "name": "python2"
  },
  "language_info": {
   "codemirror_mode": {
    "name": "ipython",
    "version": 2
   },
   "file_extension": ".py",
   "mimetype": "text/x-python",
   "name": "python",
   "nbconvert_exporter": "python",
   "pygments_lexer": "ipython2",
   "version": "2.7.11"
  }
 },
 "nbformat": 4,
 "nbformat_minor": 0
}
