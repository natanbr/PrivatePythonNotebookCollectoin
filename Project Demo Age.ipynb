{
 "cells": [
  {
   "cell_type": "code",
   "execution_count": 14,
   "metadata": {
    "collapsed": false
   },
   "outputs": [
    {
     "name": "stdout",
     "output_type": "stream",
     "text": [
      "Screen Size = (1836, 1080)\n",
      "LG Original Size = (1440, 2560)\n",
      "LG Srinked Size = (294L, 518L)\n",
      "LG Screen pos = (1542L, 562L)\n",
      "Samsung Original Size = (1440, 2560)\n",
      "Samsung Srinked Size = (294L, 518L)\n",
      "Samsung Screen pos = (1248L, 562L)\n"
     ]
    }
   ],
   "source": [
    "# Import everything needed to edit video clips\n",
    "from moviepy.editor import *\n",
    "\n",
    "#load images, cut the clip\n",
    "c_main = VideoFileClip(r\"C:\\Users\\nbraslav\\OneDrive\\2nd deg project\\Demo\\Demo_Age.xesc\")\n",
    "c_l = VideoFileClip(r\"C:\\Users\\nbraslav\\OneDrive\\2nd deg project\\Demo\\Demo_LG_Age.mp4\")\n",
    "c_s = VideoFileClip(r\"C:\\Users\\nbraslav\\OneDrive\\2nd deg project\\Demo\\Demo_samasung_Age.mp4\")\n",
    "\n",
    "#get the clip size\n",
    "w,h = c_main.size\n",
    "print \"Screen Size = \" + str((w,h))\n",
    "\n",
    "shrink = 5\n",
    "#resize the clip and add margin \n",
    "mobile_w,mobile_h = cw,ch = c_l.size\n",
    "print \"LG Original Size = \" + str((cw,ch))\n",
    "c_l = c_l.resize(width = cw/shrink).margin(3,color=(255,255,255))\n",
    "cw,ch = c_l.size\n",
    "print \"LG Srinked Size = \" + str((cw,ch))\n",
    "c_l = c_l.set_pos((w-cw,h-ch))\n",
    "print \"LG Screen pos = \" + str((w-cw,h-ch))\n",
    "\n",
    "cw,ch = mobile_w,mobile_h\n",
    "print \"Samsung Original Size = \" + str((cw,ch))\n",
    "c_s = c_s.resize(width = cw/shrink).margin(3,color=(255,255,255))\n",
    "cw,ch = c_s.size\n",
    "print \"Samsung Srinked Size = \" + str((cw,ch))\n",
    "c_s = c_s.set_pos((w-2*cw,h-ch))\n",
    "print \"Samsung Screen pos = \" + str((w-2 * cw,h-ch))\n",
    "\n",
    "#set start at\n",
    "c_l = c_l.set_start(6)\n",
    "c_s = c_s.set_start(4)\n"
   ]
  },
  {
   "cell_type": "code",
   "execution_count": 15,
   "metadata": {
    "collapsed": false
   },
   "outputs": [
    {
     "name": "stdout",
     "output_type": "stream",
     "text": [
      "[MoviePy] >>>> Building video DemoAge.mp4\n",
      "[MoviePy] Writing video DemoAge.mp4\n"
     ]
    },
    {
     "name": "stderr",
     "output_type": "stream",
     "text": [
      "100%|█████████████████████████████████| 3117/3117 [14:43<00:00,  5.90it/s]\n"
     ]
    },
    {
     "name": "stdout",
     "output_type": "stream",
     "text": [
      "[MoviePy] Done.\n",
      "[MoviePy] >>>> Video ready: DemoAge.mp4 \n",
      "\n"
     ]
    }
   ],
   "source": [
    "final = CompositeVideoClip([c_main,c_l,c_s], size=(w,h))\n",
    "final.write_videofile(\"DemoAge.mp4\",fps=24)"
   ]
  }
 ],
 "metadata": {
  "kernelspec": {
   "display_name": "Python 2",
   "language": "python",
   "name": "python2"
  },
  "language_info": {
   "codemirror_mode": {
    "name": "ipython",
    "version": 2
   },
   "file_extension": ".py",
   "mimetype": "text/x-python",
   "name": "python",
   "nbconvert_exporter": "python",
   "pygments_lexer": "ipython2",
   "version": "2.7.13"
  }
 },
 "nbformat": 4,
 "nbformat_minor": 0
}
