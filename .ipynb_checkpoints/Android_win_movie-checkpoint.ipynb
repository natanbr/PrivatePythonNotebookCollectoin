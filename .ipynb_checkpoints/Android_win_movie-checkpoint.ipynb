{
 "cells": [
  {
   "cell_type": "code",
   "execution_count": 9,
   "metadata": {
    "collapsed": false
   },
   "outputs": [],
   "source": [
    "# Import everything needed to edit video clips\n",
    "from moviepy.editor import *"
   ]
  },
  {
   "cell_type": "code",
   "execution_count": 14,
   "metadata": {
    "collapsed": false
   },
   "outputs": [],
   "source": [
    "c_main = VideoFileClip(r\"C:\\Users\\nbraslav\\Documents\\Expression\\Expression Encoder\\Screen Capture Output\\ScreenCapture_22-06-16 17.58.02.xesc\")"
   ]
  },
  {
   "cell_type": "code",
   "execution_count": 15,
   "metadata": {
    "collapsed": false
   },
   "outputs": [],
   "source": [
    "#load images, cut the clip\n",
    "c_l = VideoFileClip(r\"C:\\Users\\nbraslav\\OneDrive\\2 Degree\\D\\Android\\demo_win.mp4\").subclip(0,37)"
   ]
  },
  {
   "cell_type": "code",
   "execution_count": 16,
   "metadata": {
    "collapsed": false
   },
   "outputs": [
    {
     "name": "stdout",
     "output_type": "stream",
     "text": [
      "[1836, 1080]\n",
      "Screen Size = (1836, 1080)\n",
      "LG Original Size = (2560L, 1440L)\n",
      "LG Srinked Size = (859L, 485L)\n",
      "LG Screen pos = (977L, 595L)\n"
     ]
    }
   ],
   "source": [
    "#get the clip size\n",
    "w,h = c_main.size\n",
    "print c_main.size\n",
    "print \"Screen Size = \" + str((w,h))\n",
    "\n",
    "shrink = 3\n",
    "#resize the clip and add margin \n",
    "mobile_w,mobile_h = cw,ch = c_l.size\n",
    "print \"LG Original Size = \" + str((cw,ch))\n",
    "c_l = c_l.resize(width = cw/shrink).margin(3,color=(255,255,255))\n",
    "cw,ch = c_l.size\n",
    "print \"LG Srinked Size = \" + str((cw,ch))\n",
    "c_l = c_l.set_pos((w-cw,h-ch))\n",
    "print \"LG Screen pos = \" + str((w-cw,h-ch))\n",
    "\n",
    "#set start at\n",
    "c_main = c_main.set_start(4)"
   ]
  },
  {
   "cell_type": "code",
   "execution_count": 17,
   "metadata": {
    "collapsed": false
   },
   "outputs": [
    {
     "name": "stdout",
     "output_type": "stream",
     "text": [
      "[MoviePy] >>>> Building video Android_Game_win.mp4\n",
      "[MoviePy] Writing video Android_Game_win.mp4\n"
     ]
    },
    {
     "name": "stderr",
     "output_type": "stream",
     "text": [
      "100%|██████████████████████████████████▉| 888/889 [04:05<00:00,  3.85it/s]\n"
     ]
    },
    {
     "name": "stdout",
     "output_type": "stream",
     "text": [
      "[MoviePy] Done.\n",
      "[MoviePy] >>>> Video ready: Android_Game_win.mp4 \n",
      "\n"
     ]
    }
   ],
   "source": [
    "final = CompositeVideoClip([c_main,c_l], size=(w,h))\n",
    "final.write_videofile(\"Android_Game_win.mp4\",fps=24)"
   ]
  }
 ],
 "metadata": {
  "kernelspec": {
   "display_name": "Python 2",
   "language": "python",
   "name": "python2"
  },
  "language_info": {
   "codemirror_mode": {
    "name": "ipython",
    "version": 2
   },
   "file_extension": ".py",
   "mimetype": "text/x-python",
   "name": "python",
   "nbconvert_exporter": "python",
   "pygments_lexer": "ipython2",
   "version": "2.7.13"
  }
 },
 "nbformat": 4,
 "nbformat_minor": 0
}
