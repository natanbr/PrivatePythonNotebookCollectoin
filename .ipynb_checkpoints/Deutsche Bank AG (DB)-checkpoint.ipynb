{
 "cells": [
  {
   "cell_type": "code",
   "execution_count": 2,
   "metadata": {
    "collapsed": false
   },
   "outputs": [],
   "source": [
    "from yahoo_finance import Share\n",
    "from pprint import pprint # for more readable output\n",
    "from pandas_datareader import data # http://pandas-datareader.readthedocs.io/en/latest/remote_data.html#google-finance\n",
    "from currency_converter import CurrencyConverter\n",
    "c = CurrencyConverter()\n"
   ]
  },
  {
   "cell_type": "code",
   "execution_count": 26,
   "metadata": {
    "collapsed": false
   },
   "outputs": [
    {
     "data": {
      "text/plain": [
       "3.741178944604883"
      ]
     },
     "execution_count": 26,
     "metadata": {},
     "output_type": "execute_result"
    }
   ],
   "source": [
    "#static numbers\n",
    "bank_commission = 1 # in %\n",
    "operation_commission = 1 # in $\n",
    "number_of_stocks = 1\n",
    "stock_value = 1\n",
    "\n",
    "c_chage_buy_persent = 0.0102 \n",
    "c_chage_sell_persent = 0.0218 \n",
    "c_rate_dolar_to_nis = c.convert(1, 'USD', 'ILS')\n",
    "c_rate_nis_to_dolar = c.convert(1, 'ILS', 'USD')\n",
    "c_bank_rate_dolar_to_nis = c_rate_dolar_to_nis - c_rate_dolar_to_nis * c_chage_buy_persent\n",
    "c_bank_rate_nis_to_dolar = c_rate_nis_to_dolar - c_rate_nis_to_dolar * c_chage_sell_persent"
   ]
  },
  {
   "cell_type": "code",
   "execution_count": 25,
   "metadata": {
    "collapsed": false
   },
   "outputs": [
    {
     "name": "stdout",
     "output_type": "stream",
     "text": [
      "Buying 1 stock, USD:1.00$, ILS: 3.78\n",
      "Cost: w\\o commission:1.00 $, with commission 3.00 $\n"
     ]
    }
   ],
   "source": [
    "#simulation \n",
    "\n",
    "print(\"Buying %d stock, USD:%.2f$, ILS: %.2f\" % (number_of_stocks,stock_value, stock_value * c_rate_dolar_to_nis))\n",
    "\n",
    "stock_pure_value = stock_value * number_of_stocks\n",
    "stock_with_commission_value = stock_pure_value + stock_pure_value * bank_commission + operation_commission\n",
    "print(\"Cost: w\\o commission:%.2f $, with commission %.2f $\" % (stock_pure_value, stock_with_commission_value))\n",
    "\n"
   ]
  },
  {
   "cell_type": "code",
   "execution_count": 61,
   "metadata": {
    "collapsed": false,
    "scrolled": true
   },
   "outputs": [
    {
     "name": "stdout",
     "output_type": "stream",
     "text": [
      "val 3.77973221318\n",
      "buy% 1.58032923526%\n",
      "sell% -3.71105091338%\n"
     ]
    }
   ],
   "source": [
    "from currency_converter import CurrencyConverter\n",
    "c = CurrencyConverter()\n",
    "val = c.convert(1, 'USD', 'ILS')\n",
    "buy = 3.72\n",
    "sell = 3.92\n",
    "buy_p = (1- buy/val)*100\n",
    "sell_p = (1 - sell/val) *100\n",
    "print (\"val \" + str(val))\n",
    "print (\"buy% \" + str(buy_p) + \"%\")\n",
    "print (\"sell% \" + str(sell_p) + \"%\")"
   ]
  },
  {
   "cell_type": "code",
   "execution_count": 73,
   "metadata": {
    "collapsed": false
   },
   "outputs": [
    {
     "name": "stdout",
     "output_type": "stream",
     "text": [
      "5.97197689682\n",
      "5.231382\n"
     ]
    }
   ],
   "source": [
    "convert_chage_buy_persent = 1.58\n",
    "convert_chage_sell_persent = 3.71\n",
    "start_with = 100 # nis\n",
    "inUSD = start_with * val - start_with * val * convert_chage_buy_persent / 100\n",
    "print (val * start_with - inUSD)\n",
    "inILS = inUSD * 1/val -   inUSD * 1/val * convert_chage_sell_persent /100\n",
    "print (start_with - inILS)"
   ]
  },
  {
   "cell_type": "code",
   "execution_count": 14,
   "metadata": {
    "collapsed": false
   },
   "outputs": [
    {
     "name": "stdout",
     "output_type": "stream",
     "text": [
      "13.23\n",
      "13.36\n",
      "2016-10-13 20:02:00 UTC+0000\n",
      "[{'Adj_Close': '13.36',\n",
      "  'Close': '13.36',\n",
      "  'Date': '2016-10-13',\n",
      "  'High': '13.42',\n",
      "  'Low': '13.05',\n",
      "  'Open': '13.23',\n",
      "  'Symbol': 'DB',\n",
      "  'Volume': '6787000'},\n",
      " {'Adj_Close': '13.60',\n",
      "  'Close': '13.60',\n",
      "  'Date': '2016-10-12',\n",
      "  'High': '13.73',\n",
      "  'Low': '13.54',\n",
      "  'Open': '13.62',\n",
      "  'Symbol': 'DB',\n",
      "  'Volume': '4013500'},\n",
      " {'Adj_Close': '13.62',\n",
      "  'Close': '13.62',\n",
      "  'Date': '2016-10-11',\n",
      "  'High': '13.84',\n",
      "  'Low': '13.53',\n",
      "  'Open': '13.80',\n",
      "  'Symbol': 'DB',\n",
      "  'Volume': '5842600'}]\n"
     ]
    }
   ],
   "source": [
    "yahoo = Share('DB')\n",
    "print yahoo.get_open()\n",
    "print yahoo.get_price()\n",
    "print yahoo.get_trade_datetime()\n",
    "hist = yahoo.get_historical('2016-10-11', '2016-10-16')\n",
    "pprint(hist)"
   ]
  }
 ],
 "metadata": {
  "kernelspec": {
   "display_name": "Python 2",
   "language": "python",
   "name": "python2"
  },
  "language_info": {
   "codemirror_mode": {
    "name": "ipython",
    "version": 2
   },
   "file_extension": ".py",
   "mimetype": "text/x-python",
   "name": "python",
   "nbconvert_exporter": "python",
   "pygments_lexer": "ipython2",
   "version": "2.7.11"
  }
 },
 "nbformat": 4,
 "nbformat_minor": 0
}
