{
 "cells": [
  {
   "cell_type": "code",
   "execution_count": 52,
   "metadata": {
    "collapsed": false
   },
   "outputs": [],
   "source": [
    "# Import everything needed to edit video clips\n",
    "from moviepy.editor import *\n",
    "\n",
    "#load images, cut the clip\n",
    "#d_main = VideoFileClip(r\"C:\\Users\\nbraslav\\OneDrive\\2nd deg project\\Demo\\Demo_Location.xesc\")\n",
    "v1 = VideoFileClip(r\"C:\\Users\\nbraslav\\OneDrive\\2nd deg project\\Demo\\DemoL1.wmv\")\n",
    "v2 = VideoFileClip(r\"C:\\Users\\nbraslav\\OneDrive\\2nd deg project\\Demo\\DemoL2.wmv\")\n",
    "v3 = VideoFileClip(r\"C:\\Users\\nbraslav\\OneDrive\\2nd deg project\\Demo\\DemoL3.wmv\")\n",
    "\n",
    "d11 = VideoFileClip(r\"C:\\Users\\nbraslav\\OneDrive\\2nd deg project\\Demo\\LG_location_demo.mp4\")\n",
    "d2 = VideoFileClip(r\"C:\\Users\\nbraslav\\OneDrive\\2nd deg project\\Demo\\Samsung_location_demo.mp4\")\n",
    "d12 = VideoFileClip(r\"C:\\Users\\nbraslav\\OneDrive\\2nd deg project\\Demo\\LG_location_demo_2.mp4\")"
   ]
  },
  {
   "cell_type": "code",
   "execution_count": 53,
   "metadata": {
    "collapsed": false
   },
   "outputs": [
    {
     "name": "stdout",
     "output_type": "stream",
     "text": [
      "Screen Size = (1840, 1080)\n",
      "LG Original Size = (1440, 2560)\n",
      "d11 New Size = (366L, 646L)\n",
      "d2 New Size = (366L, 646L)\n",
      "d12 New Size = (366L, 646L)\n",
      "New Width = 366 ,New Hight = 646\n",
      "d11 Pos = (1474L, 434L)\n",
      "d11 Pos = (1108L, 434L)\n",
      "d11 Pos = (1474L, 434L)\n"
     ]
    }
   ],
   "source": [
    "#get the clip size\n",
    "w,h = v1.size\n",
    "print \"Screen Size = \" + str((w,h))\n",
    "\n",
    "shrink = 4\n",
    "#resize the clip and add margin \n",
    "m_orig_w,m_orig_h = d11.size\n",
    "print \"LG Original Size = \" + str((m_orig_w,m_orig_h))\n",
    "\n",
    "d11 = d11.resize(width = m_orig_w/shrink).margin(3,color=(255,255,255))\n",
    "print \"d11 New Size = \" + str(d11.size)\n",
    "d2 = d2.resize(width =  m_orig_w/shrink).margin(3,color=(255,255,255))\n",
    "print \"d2 New Size = \" + str(d2.size)\n",
    "d12 = d12.resize(width =  m_orig_w/shrink).margin(3,color=(255,255,255))\n",
    "print \"d12 New Size = \" + str(d12.size)\n",
    "\n",
    "new_w = d11.size[0]\n",
    "new_h = d11.size[1]\n",
    "print \"New Width = \" + str(new_w) + \" ,New Hight = \" + str(new_h)\n",
    "\n",
    "# set pos\n",
    "d11 = d11.set_pos((w-new_w,h-new_h))\n",
    "print \"d11 Pos = \" + str((w-new_w,h-new_h))\n",
    "d2 = d2.set_pos((w-2*new_w,h-new_h))\n",
    "print \"d11 Pos = \" + str((w-2*new_w,h-new_h))\n",
    "d12 = d12.set_pos((w-new_w,h-new_h))\n",
    "print \"d11 Pos = \" + str((w-new_w,h-new_h))\n",
    "\n",
    "#set length\n",
    "v1 = v1.subclip(0,60 + 53)\n",
    "v2 = v2.subclip(0,26)\n",
    "#v3 = v3.subclip(0,)\n",
    "d12 = d12.subclip(8,24)\n",
    "\n",
    "#set start at\n",
    "d11 = d11.set_start(28)\n",
    "d2 = d2.set_start(30)"
   ]
  },
  {
   "cell_type": "code",
   "execution_count": 54,
   "metadata": {
    "collapsed": true
   },
   "outputs": [],
   "source": [
    "part1 = CompositeVideoClip([v1,d11,d2],v1.size)"
   ]
  },
  {
   "cell_type": "code",
   "execution_count": 58,
   "metadata": {
    "collapsed": false
   },
   "outputs": [],
   "source": [
    "from moviepy.video import *\n",
    "#freez \n",
    "v2_frz = video.fx.all.freeze(v2,26,24-8)\n",
    "d12 = d12.set_start(24)\n",
    "\n",
    "part2 = CompositeVideoClip([v2_frz,d12],v1.size)"
   ]
  },
  {
   "cell_type": "code",
   "execution_count": 59,
   "metadata": {
    "collapsed": true
   },
   "outputs": [],
   "source": [
    "part3 = CompositeVideoClip([v3],v1.size)"
   ]
  },
  {
   "cell_type": "code",
   "execution_count": 60,
   "metadata": {
    "collapsed": true
   },
   "outputs": [],
   "source": [
    "final = concatenate_videoclips([part1,part2,part3])"
   ]
  },
  {
   "cell_type": "code",
   "execution_count": 63,
   "metadata": {
    "collapsed": false
   },
   "outputs": [
    {
     "name": "stdout",
     "output_type": "stream",
     "text": [
      "[MoviePy] >>>> Building video DemoLocation2.mp4\n",
      "[MoviePy] Writing audio in DemoLocation2TEMP_MPY_wvf_snd.mp3\n"
     ]
    },
    {
     "name": "stderr",
     "output_type": "stream",
     "text": [
      "100%|███████████████████████████████| 3596/3596 [00:03<00:00, 1006.16it/s]\n"
     ]
    },
    {
     "name": "stdout",
     "output_type": "stream",
     "text": [
      "[MoviePy] Done.\n",
      "[MoviePy] Writing video DemoLocation2.mp4\n"
     ]
    },
    {
     "name": "stderr",
     "output_type": "stream",
     "text": [
      "100%|█████████████████████████████████| 3914/3914 [12:20<00:00,  5.29it/s]\n"
     ]
    },
    {
     "name": "stdout",
     "output_type": "stream",
     "text": [
      "[MoviePy] Done.\n",
      "[MoviePy] >>>> Video ready: DemoLocation2.mp4 \n",
      "\n"
     ]
    }
   ],
   "source": [
    "final.write_videofile(\"DemoLocation2.mp4\",fps=24)"
   ]
  }
 ],
 "metadata": {
  "kernelspec": {
   "display_name": "Python 2",
   "language": "python",
   "name": "python2"
  },
  "language_info": {
   "codemirror_mode": {
    "name": "ipython",
    "version": 2
   },
   "file_extension": ".py",
   "mimetype": "text/x-python",
   "name": "python",
   "nbconvert_exporter": "python",
   "pygments_lexer": "ipython2",
   "version": "2.7.11"
  }
 },
 "nbformat": 4,
 "nbformat_minor": 0
}
